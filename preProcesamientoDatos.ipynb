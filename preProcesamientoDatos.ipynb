{
 "cells": [
  {
   "cell_type": "code",
   "execution_count": 11,
   "id": "80048e4f",
   "metadata": {},
   "outputs": [
    {
     "name": "stdout",
     "output_type": "stream",
     "text": [
      "Requirement already satisfied: pandas in /home/matti/Documents/UDD/ADB/.venv/lib/python3.10/site-packages (2.3.1)\n",
      "Requirement already satisfied: pyarrow in /home/matti/Documents/UDD/ADB/.venv/lib/python3.10/site-packages (21.0.0)\n",
      "Requirement already satisfied: fastparquet in /home/matti/Documents/UDD/ADB/.venv/lib/python3.10/site-packages (2024.11.0)\n",
      "Requirement already satisfied: numpy>=1.22.4 in /home/matti/Documents/UDD/ADB/.venv/lib/python3.10/site-packages (from pandas) (2.2.6)\n",
      "Requirement already satisfied: python-dateutil>=2.8.2 in /home/matti/Documents/UDD/ADB/.venv/lib/python3.10/site-packages (from pandas) (2.9.0.post0)\n",
      "Requirement already satisfied: pytz>=2020.1 in /home/matti/Documents/UDD/ADB/.venv/lib/python3.10/site-packages (from pandas) (2025.2)\n",
      "Requirement already satisfied: tzdata>=2022.7 in /home/matti/Documents/UDD/ADB/.venv/lib/python3.10/site-packages (from pandas) (2025.2)\n",
      "Requirement already satisfied: cramjam>=2.3 in /home/matti/Documents/UDD/ADB/.venv/lib/python3.10/site-packages (from fastparquet) (2.11.0)\n",
      "Requirement already satisfied: fsspec in /home/matti/Documents/UDD/ADB/.venv/lib/python3.10/site-packages (from fastparquet) (2025.7.0)\n",
      "Requirement already satisfied: packaging in /home/matti/Documents/UDD/ADB/.venv/lib/python3.10/site-packages (from fastparquet) (25.0)\n",
      "Requirement already satisfied: six>=1.5 in /home/matti/Documents/UDD/ADB/.venv/lib/python3.10/site-packages (from python-dateutil>=2.8.2->pandas) (1.17.0)\n"
     ]
    }
   ],
   "source": [
    "!pip install pandas pyarrow fastparquet"
   ]
  },
  {
   "cell_type": "code",
   "execution_count": 12,
   "id": "10d6006f",
   "metadata": {},
   "outputs": [],
   "source": [
    "import pandas as pd\n",
    "import pyarrow\n",
    "from pathlib import Path"
   ]
  },
  {
   "cell_type": "code",
   "execution_count": 13,
   "id": "fede5d0b",
   "metadata": {},
   "outputs": [],
   "source": [
    "def normalizarFechas(series):\n",
    "    dt = pd.to_datetime(series, errors=\"coerce\")\n",
    "    return dt.dt.strftime(\"%Y-%m-%d\").fillna(\"\")\n",
    "\n",
    "def convertirANumerico(series):\n",
    "    return pd.to_numeric(series, errors=\"coerce\")"
   ]
  },
  {
   "cell_type": "code",
   "execution_count": 14,
   "id": "fbe0de97",
   "metadata": {},
   "outputs": [],
   "source": [
    "INPUT_CSV  = Path(\"../../Evaluaciones/EV02/movies_metadata.csv\")  # ruta al CSV original\n",
    "OUTPUT_CSV = Path(\"./movies_metadata_final.csv\")  # salida UTF-8\n",
    "OUTPUT_PARQUET = Path(\"./movies_metadata_final.parquet\")  # para Athena"
   ]
  },
  {
   "cell_type": "code",
   "execution_count": 15,
   "id": "445b2962",
   "metadata": {},
   "outputs": [],
   "source": [
    "pd.set_option('display.max_columns', None)  \n",
    "pd.set_option('display.max_colwidth', 70)   "
   ]
  },
  {
   "cell_type": "code",
   "execution_count": 16,
   "id": "0f546b18",
   "metadata": {},
   "outputs": [
    {
     "data": {
      "text/html": [
       "<div>\n",
       "<style scoped>\n",
       "    .dataframe tbody tr th:only-of-type {\n",
       "        vertical-align: middle;\n",
       "    }\n",
       "\n",
       "    .dataframe tbody tr th {\n",
       "        vertical-align: top;\n",
       "    }\n",
       "\n",
       "    .dataframe thead th {\n",
       "        text-align: right;\n",
       "    }\n",
       "</style>\n",
       "<table border=\"1\" class=\"dataframe\">\n",
       "  <thead>\n",
       "    <tr style=\"text-align: right;\">\n",
       "      <th></th>\n",
       "      <th>adult</th>\n",
       "      <th>belongs_to_collection</th>\n",
       "      <th>budget</th>\n",
       "      <th>genres</th>\n",
       "      <th>homepage</th>\n",
       "      <th>id</th>\n",
       "      <th>imdb_id</th>\n",
       "      <th>original_language</th>\n",
       "      <th>original_title</th>\n",
       "      <th>overview</th>\n",
       "      <th>popularity</th>\n",
       "      <th>poster_path</th>\n",
       "      <th>production_companies</th>\n",
       "      <th>production_countries</th>\n",
       "      <th>release_date</th>\n",
       "      <th>revenue</th>\n",
       "      <th>runtime</th>\n",
       "      <th>spoken_languages</th>\n",
       "      <th>status</th>\n",
       "      <th>tagline</th>\n",
       "      <th>title</th>\n",
       "      <th>video</th>\n",
       "      <th>vote_average</th>\n",
       "      <th>vote_count</th>\n",
       "    </tr>\n",
       "  </thead>\n",
       "  <tbody>\n",
       "    <tr>\n",
       "      <th>0</th>\n",
       "      <td>False</td>\n",
       "      <td>{'id': 10194, 'name': 'Toy Story Collection', 'poster_path': '/7G9...</td>\n",
       "      <td>30000000</td>\n",
       "      <td>[{'id': 16, 'name': 'Animation'}, {'id': 35, 'name': 'Comedy'}, {'...</td>\n",
       "      <td>http://toystory.disney.com/toy-story</td>\n",
       "      <td>862</td>\n",
       "      <td>tt0114709</td>\n",
       "      <td>en</td>\n",
       "      <td>Toy Story</td>\n",
       "      <td>Led by Woody, Andy's toys live happily in his room until Andy's bi...</td>\n",
       "      <td>21.946943</td>\n",
       "      <td>/rhIRbceoE9lR4veEXuwCC2wARtG.jpg</td>\n",
       "      <td>[{'name': 'Pixar Animation Studios', 'id': 3}]</td>\n",
       "      <td>[{'iso_3166_1': 'US', 'name': 'United States of America'}]</td>\n",
       "      <td>1995-10-30</td>\n",
       "      <td>373554033</td>\n",
       "      <td>81.0</td>\n",
       "      <td>[{'iso_639_1': 'en', 'name': 'English'}]</td>\n",
       "      <td>Released</td>\n",
       "      <td>NaN</td>\n",
       "      <td>Toy Story</td>\n",
       "      <td>False</td>\n",
       "      <td>7.7</td>\n",
       "      <td>5415</td>\n",
       "    </tr>\n",
       "    <tr>\n",
       "      <th>1</th>\n",
       "      <td>False</td>\n",
       "      <td>NaN</td>\n",
       "      <td>65000000</td>\n",
       "      <td>[{'id': 12, 'name': 'Adventure'}, {'id': 14, 'name': 'Fantasy'}, {...</td>\n",
       "      <td>NaN</td>\n",
       "      <td>8844</td>\n",
       "      <td>tt0113497</td>\n",
       "      <td>en</td>\n",
       "      <td>Jumanji</td>\n",
       "      <td>When siblings Judy and Peter discover an enchanted board game that...</td>\n",
       "      <td>17.015539</td>\n",
       "      <td>/vzmL6fP7aPKNKPRTFnZmiUfciyV.jpg</td>\n",
       "      <td>[{'name': 'TriStar Pictures', 'id': 559}, {'name': 'Teitler Film',...</td>\n",
       "      <td>[{'iso_3166_1': 'US', 'name': 'United States of America'}]</td>\n",
       "      <td>1995-12-15</td>\n",
       "      <td>262797249</td>\n",
       "      <td>104.0</td>\n",
       "      <td>[{'iso_639_1': 'en', 'name': 'English'}, {'iso_639_1': 'fr', 'name...</td>\n",
       "      <td>Released</td>\n",
       "      <td>Roll the dice and unleash the excitement!</td>\n",
       "      <td>Jumanji</td>\n",
       "      <td>False</td>\n",
       "      <td>6.9</td>\n",
       "      <td>2413</td>\n",
       "    </tr>\n",
       "  </tbody>\n",
       "</table>\n",
       "</div>"
      ],
      "text/plain": [
       "   adult  \\\n",
       "0  False   \n",
       "1  False   \n",
       "\n",
       "                                                   belongs_to_collection  \\\n",
       "0  {'id': 10194, 'name': 'Toy Story Collection', 'poster_path': '/7G9...   \n",
       "1                                                                    NaN   \n",
       "\n",
       "     budget  \\\n",
       "0  30000000   \n",
       "1  65000000   \n",
       "\n",
       "                                                                  genres  \\\n",
       "0  [{'id': 16, 'name': 'Animation'}, {'id': 35, 'name': 'Comedy'}, {'...   \n",
       "1  [{'id': 12, 'name': 'Adventure'}, {'id': 14, 'name': 'Fantasy'}, {...   \n",
       "\n",
       "                               homepage    id    imdb_id original_language  \\\n",
       "0  http://toystory.disney.com/toy-story   862  tt0114709                en   \n",
       "1                                   NaN  8844  tt0113497                en   \n",
       "\n",
       "  original_title  \\\n",
       "0      Toy Story   \n",
       "1        Jumanji   \n",
       "\n",
       "                                                                overview  \\\n",
       "0  Led by Woody, Andy's toys live happily in his room until Andy's bi...   \n",
       "1  When siblings Judy and Peter discover an enchanted board game that...   \n",
       "\n",
       "  popularity                       poster_path  \\\n",
       "0  21.946943  /rhIRbceoE9lR4veEXuwCC2wARtG.jpg   \n",
       "1  17.015539  /vzmL6fP7aPKNKPRTFnZmiUfciyV.jpg   \n",
       "\n",
       "                                                    production_companies  \\\n",
       "0                         [{'name': 'Pixar Animation Studios', 'id': 3}]   \n",
       "1  [{'name': 'TriStar Pictures', 'id': 559}, {'name': 'Teitler Film',...   \n",
       "\n",
       "                                         production_countries release_date  \\\n",
       "0  [{'iso_3166_1': 'US', 'name': 'United States of America'}]   1995-10-30   \n",
       "1  [{'iso_3166_1': 'US', 'name': 'United States of America'}]   1995-12-15   \n",
       "\n",
       "     revenue runtime  \\\n",
       "0  373554033    81.0   \n",
       "1  262797249   104.0   \n",
       "\n",
       "                                                        spoken_languages  \\\n",
       "0                               [{'iso_639_1': 'en', 'name': 'English'}]   \n",
       "1  [{'iso_639_1': 'en', 'name': 'English'}, {'iso_639_1': 'fr', 'name...   \n",
       "\n",
       "     status                                    tagline      title  video  \\\n",
       "0  Released                                        NaN  Toy Story  False   \n",
       "1  Released  Roll the dice and unleash the excitement!    Jumanji  False   \n",
       "\n",
       "  vote_average vote_count  \n",
       "0          7.7       5415  \n",
       "1          6.9       2413  "
      ]
     },
     "execution_count": 16,
     "metadata": {},
     "output_type": "execute_result"
    }
   ],
   "source": [
    "df = pd.read_csv(INPUT_CSV, low_memory=False, encoding=\"utf-8\", dtype=str)\n",
    "df.head(2)"
   ]
  },
  {
   "cell_type": "code",
   "execution_count": 17,
   "id": "df97c4c3",
   "metadata": {},
   "outputs": [
    {
     "data": {
      "text/plain": [
       "0                               [{'name': 'Pixar Animation Studios', 'id': 3}]\n",
       "1        [{'name': 'TriStar Pictures', 'id': 559}, {'name': 'Teitler Film',...\n",
       "2        [{'name': 'Warner Bros.', 'id': 6194}, {'name': 'Lancaster Gate', ...\n",
       "3              [{'name': 'Twentieth Century Fox Film Corporation', 'id': 306}]\n",
       "4        [{'name': 'Sandollar Productions', 'id': 5842}, {'name': 'Touchsto...\n",
       "                                         ...                                  \n",
       "45461                                                                       []\n",
       "45462                                   [{'name': 'Sine Olivia', 'id': 19653}]\n",
       "45463                        [{'name': 'American World Pictures', 'id': 6165}]\n",
       "45464                                     [{'name': 'Yermoliev', 'id': 88753}]\n",
       "45465                                                                       []\n",
       "Name: production_companies, Length: 45466, dtype: object"
      ]
     },
     "execution_count": 17,
     "metadata": {},
     "output_type": "execute_result"
    }
   ],
   "source": [
    "df[\"production_companies\"]"
   ]
  },
  {
   "cell_type": "code",
   "execution_count": 18,
   "id": "d5ff9ccc",
   "metadata": {},
   "outputs": [],
   "source": [
    "columnasUtiles = [\n",
    "    \"id\",                    \n",
    "    \"original_title\",        \n",
    "    \"release_date\",          \n",
    "    \"budget\",                \n",
    "    \"revenue\",               \n",
    "    \"popularity\",            \n",
    "    \"vote_average\",\n",
    "    \"vote_count\",          \n",
    "    \"production_companies\",  \n",
    "    \"genres\"                 \n",
    "]"
   ]
  },
  {
   "cell_type": "code",
   "execution_count": 19,
   "id": "fbe04304",
   "metadata": {},
   "outputs": [
    {
     "name": "stdout",
     "output_type": "stream",
     "text": [
      "Columnas descartadas: 14\n",
      "Columnas finales: 10\n"
     ]
    }
   ],
   "source": [
    "df_trucado = df[columnasUtiles].copy()\n",
    "columnasDescartadas = [c for c in df.columns if c not in columnasUtiles]\n",
    "print(\"Columnas descartadas:\", len(columnasDescartadas))\n",
    "print(\"Columnas finales:\", len(df_trucado.columns))"
   ]
  },
  {
   "cell_type": "code",
   "execution_count": 20,
   "id": "8cac06b4",
   "metadata": {},
   "outputs": [
    {
     "data": {
      "text/html": [
       "<div>\n",
       "<style scoped>\n",
       "    .dataframe tbody tr th:only-of-type {\n",
       "        vertical-align: middle;\n",
       "    }\n",
       "\n",
       "    .dataframe tbody tr th {\n",
       "        vertical-align: top;\n",
       "    }\n",
       "\n",
       "    .dataframe thead th {\n",
       "        text-align: right;\n",
       "    }\n",
       "</style>\n",
       "<table border=\"1\" class=\"dataframe\">\n",
       "  <thead>\n",
       "    <tr style=\"text-align: right;\">\n",
       "      <th></th>\n",
       "      <th>id</th>\n",
       "      <th>original_title</th>\n",
       "      <th>release_date</th>\n",
       "      <th>budget</th>\n",
       "      <th>revenue</th>\n",
       "      <th>popularity</th>\n",
       "      <th>vote_average</th>\n",
       "      <th>vote_count</th>\n",
       "      <th>production_companies</th>\n",
       "      <th>genres</th>\n",
       "    </tr>\n",
       "  </thead>\n",
       "  <tbody>\n",
       "    <tr>\n",
       "      <th>0</th>\n",
       "      <td>862</td>\n",
       "      <td>Toy Story</td>\n",
       "      <td>1995-10-30</td>\n",
       "      <td>30000000.0</td>\n",
       "      <td>373554033.0</td>\n",
       "      <td>21.946943</td>\n",
       "      <td>7.7</td>\n",
       "      <td>5415</td>\n",
       "      <td>[{'name': 'Pixar Animation Studios', 'id': 3}]</td>\n",
       "      <td>[{'id': 16, 'name': 'Animation'}, {'id': 35, 'name': 'Comedy'}, {'...</td>\n",
       "    </tr>\n",
       "    <tr>\n",
       "      <th>1</th>\n",
       "      <td>8844</td>\n",
       "      <td>Jumanji</td>\n",
       "      <td>1995-12-15</td>\n",
       "      <td>65000000.0</td>\n",
       "      <td>262797249.0</td>\n",
       "      <td>17.015539</td>\n",
       "      <td>6.9</td>\n",
       "      <td>2413</td>\n",
       "      <td>[{'name': 'TriStar Pictures', 'id': 559}, {'name': 'Teitler Film',...</td>\n",
       "      <td>[{'id': 12, 'name': 'Adventure'}, {'id': 14, 'name': 'Fantasy'}, {...</td>\n",
       "    </tr>\n",
       "    <tr>\n",
       "      <th>2</th>\n",
       "      <td>15602</td>\n",
       "      <td>Grumpier Old Men</td>\n",
       "      <td>1995-12-22</td>\n",
       "      <td>0.0</td>\n",
       "      <td>0.0</td>\n",
       "      <td>11.712900</td>\n",
       "      <td>6.5</td>\n",
       "      <td>92</td>\n",
       "      <td>[{'name': 'Warner Bros.', 'id': 6194}, {'name': 'Lancaster Gate', ...</td>\n",
       "      <td>[{'id': 10749, 'name': 'Romance'}, {'id': 35, 'name': 'Comedy'}]</td>\n",
       "    </tr>\n",
       "  </tbody>\n",
       "</table>\n",
       "</div>"
      ],
      "text/plain": [
       "      id    original_title release_date      budget      revenue  popularity  \\\n",
       "0    862         Toy Story   1995-10-30  30000000.0  373554033.0   21.946943   \n",
       "1   8844           Jumanji   1995-12-15  65000000.0  262797249.0   17.015539   \n",
       "2  15602  Grumpier Old Men   1995-12-22         0.0          0.0   11.712900   \n",
       "\n",
       "   vote_average vote_count  \\\n",
       "0           7.7       5415   \n",
       "1           6.9       2413   \n",
       "2           6.5         92   \n",
       "\n",
       "                                                    production_companies  \\\n",
       "0                         [{'name': 'Pixar Animation Studios', 'id': 3}]   \n",
       "1  [{'name': 'TriStar Pictures', 'id': 559}, {'name': 'Teitler Film',...   \n",
       "2  [{'name': 'Warner Bros.', 'id': 6194}, {'name': 'Lancaster Gate', ...   \n",
       "\n",
       "                                                                  genres  \n",
       "0  [{'id': 16, 'name': 'Animation'}, {'id': 35, 'name': 'Comedy'}, {'...  \n",
       "1  [{'id': 12, 'name': 'Adventure'}, {'id': 14, 'name': 'Fantasy'}, {...  \n",
       "2       [{'id': 10749, 'name': 'Romance'}, {'id': 35, 'name': 'Comedy'}]  "
      ]
     },
     "execution_count": 20,
     "metadata": {},
     "output_type": "execute_result"
    }
   ],
   "source": [
    "\n",
    "df_trucado[\"release_date\"] = pd.to_datetime(df_trucado[\"release_date\"], errors=\"coerce\")\n",
    "df_trucado[\"release_date\"] = df_trucado[\"release_date\"].dt.strftime(\"%Y-%m-%d\").fillna(\"\")\n",
    "\n",
    "for col in [\"budget\", \"revenue\", \"popularity\", \"vote_average\"]:\n",
    "    df_trucado[col] = pd.to_numeric(df_trucado[col], errors=\"coerce\")\n",
    "\n",
    "df_trucado[\"id\"] = df_trucado[\"id\"].astype(str).str.strip()\n",
    "\n",
    "df_trucado.head(3)"
   ]
  },
  {
   "cell_type": "code",
   "execution_count": 21,
   "id": "1a57213c",
   "metadata": {},
   "outputs": [
    {
     "name": "stdout",
     "output_type": "stream",
     "text": [
      "Filas: 45466\n",
      "Tipos:\n",
      "id                       object\n",
      "original_title           object\n",
      "release_date             object\n",
      "budget                  float64\n",
      "revenue                 float64\n",
      "popularity              float64\n",
      "vote_average            float64\n",
      "vote_count               object\n",
      "production_companies     object\n",
      "genres                   object\n",
      "dtype: object\n",
      "\n",
      "Nulos por columna:\n",
      "id                      0\n",
      "original_title          0\n",
      "release_date            0\n",
      "budget                  3\n",
      "revenue                 6\n",
      "popularity              6\n",
      "vote_average            6\n",
      "vote_count              6\n",
      "production_companies    3\n",
      "genres                  0\n",
      "dtype: int64\n"
     ]
    }
   ],
   "source": [
    "print(\"Filas:\", len(df_trucado))\n",
    "print(\"Tipos:\")\n",
    "print(df_trucado.dtypes)\n",
    "\n",
    "print(\"\\nNulos por columna:\")\n",
    "print(df_trucado.isna().sum())\n"
   ]
  },
  {
   "cell_type": "code",
   "execution_count": 23,
   "id": "2b5a5a34",
   "metadata": {},
   "outputs": [
    {
     "name": "stdout",
     "output_type": "stream",
     "text": [
      "CSV guardado en: /home/matti/Documents/UDD/ADB/Entregas/MattiasMorales_EV02/movies_metadata_final.csv\n",
      "Parquet guardado en: /home/matti/Documents/UDD/ADB/Entregas/MattiasMorales_EV02/movies_metadata_final.parquet\n"
     ]
    }
   ],
   "source": [
    "# Guardar CSV\n",
    "df_trucado.to_csv(OUTPUT_CSV, index=False, encoding=\"utf-8\")\n",
    "print(\"CSV guardado en:\", OUTPUT_CSV.resolve())\n",
    "\n",
    "# Guardar Parquet (sin encoding ya que Parquet maneja la codificación internamente)\n",
    "df_trucado.to_parquet(OUTPUT_PARQUET, index=False, engine='fastparquet')  \n",
    "print(\"Parquet guardado en:\", OUTPUT_PARQUET.resolve())"
   ]
  }
 ],
 "metadata": {
  "kernelspec": {
   "display_name": ".venv",
   "language": "python",
   "name": "python3"
  },
  "language_info": {
   "codemirror_mode": {
    "name": "ipython",
    "version": 3
   },
   "file_extension": ".py",
   "mimetype": "text/x-python",
   "name": "python",
   "nbconvert_exporter": "python",
   "pygments_lexer": "ipython3",
   "version": "3.10.12"
  }
 },
 "nbformat": 4,
 "nbformat_minor": 5
}
